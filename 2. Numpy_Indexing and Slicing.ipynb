{
 "cells": [
  {
   "cell_type": "code",
   "execution_count": 2,
   "metadata": {},
   "outputs": [
    {
     "name": "stdout",
     "output_type": "stream",
     "text": [
      "Array =  [44.53 34.65  2.62 90.21 87.34 98.44 88.42 19.32 90.14 66.43]\n",
      "Type =  float64\n"
     ]
    }
   ],
   "source": [
    "#N - Indexing and Slicing\n",
    "\n",
    "import numpy as np #import numpy libary\n",
    "\n",
    "#create an array list\n",
    "scores = [44.53,34.65,2.62,90.21,87.34,98.44,88.42,19.32,90.14,66.43]\n",
    "scores_array = np.array(scores)\n",
    "\n",
    "print(\"Array = \",scores_array)\n",
    "print(\"Type = \",scores_array.dtype) #.dtype returns the data type of the array"
   ]
  },
  {
   "cell_type": "code",
   "execution_count": 7,
   "metadata": {},
   "outputs": [
    {
     "name": "stdout",
     "output_type": "stream",
     "text": [
      "99.99\n",
      "[87.34 99.99 88.42]\n"
     ]
    },
    {
     "data": {
      "text/plain": [
       "array([44.53, 34.65,  2.62, 90.21, 87.34, 99.99, 88.42, 19.32, 90.14,\n",
       "       66.43])"
      ]
     },
     "execution_count": 7,
     "metadata": {},
     "output_type": "execute_result"
    }
   ],
   "source": [
    "print(scores_array[5]) #0,1,2,3,4,5th item\n",
    "print(scores_array[4:7]) #5th item through the 7th item, does not include the 8th (19.32)\n",
    "scores_array[5] = 99.99 #change the 5th item to 99.99, was 98.44\n",
    "scores_array"
   ]
  },
  {
   "cell_type": "code",
   "execution_count": 15,
   "metadata": {},
   "outputs": [
    {
     "name": "stdout",
     "output_type": "stream",
     "text": [
      "[ 44.53  34.65   2.62  90.21 123.33  99.99  88.42  19.32  90.14  66.43]\n"
     ]
    },
    {
     "data": {
      "text/plain": [
       "array([123.33])"
      ]
     },
     "execution_count": 15,
     "metadata": {},
     "output_type": "execute_result"
    }
   ],
   "source": [
    "#A major difference between lits and arrays is that, array slices are views on the orginal array. This means the data is not \n",
    "#copied and any modifications to the view will be reflected in the source.\n",
    "\n",
    "modi_scores_array = scores_array[4:5]\n",
    "modi_scores_array[0] = 123.33 # 0 is for the 4th location, and technically 1 should be for the 5th location\n",
    "print(scores_array)\n",
    "\n",
    "modi_scores_array[:] #the sliced variable"
   ]
  },
  {
   "cell_type": "code",
   "execution_count": 48,
   "metadata": {},
   "outputs": [
    {
     "name": "stdout",
     "output_type": "stream",
     "text": [
      "[44.53 34.65  2.62 90.21 87.34 98.44 88.42 19.32 90.14 66.43]\n",
      "34.65\n"
     ]
    }
   ],
   "source": [
    "matrix_scores_array = np.array(scores)\n",
    "print(matrix_scores_array)\n",
    "print(matrix_scores_array[1])\n",
    "\n",
    "#print(matrix_scores_array[0,2]) #first row and third column (ERROR)"
   ]
  },
  {
   "cell_type": "code",
   "execution_count": 7,
   "metadata": {},
   "outputs": [
    {
     "data": {
      "image/png": "[encoded data removed]",
      "text/plain": [
       "<IPython.core.display.Image object>"
      ]
     },
     "execution_count": 7,
     "metadata": {},
     "output_type": "execute_result"
    }
   ],
   "source": [
    "#Import imagery in Jupyter.\n",
    "from IPython.display import Image #importing a image from your computer\n",
    "i = Image(filename=\"MM Logo.png\") #item is loaded to jupyter and that is why you can just refer the image directly rather than a file path.\n",
    "i"
   ]
  },
  {
   "cell_type": "code",
   "execution_count": 5,
   "metadata": {},
   "outputs": [
    {
     "data": {
      "image/png": "[encoded data removed]",
      "text/plain": [
       "<IPython.core.display.Image object>"
      ]
     },
     "execution_count": 5,
     "metadata": {},
     "output_type": "execute_result"
    }
   ],
   "source": [
    "#Import imagery from Computer requires changing directories.\n",
    "\n",
    "cd = \"C:\\MMFILE\\MM27974$\\MyDocuments\\My Pictures\" #directory changed and file is pulled from directory\n",
    "y = Image(filename= \"File Name\")\n",
    "y"
   ]
  },
  {
   "cell_type": "code",
   "execution_count": 59,
   "metadata": {},
   "outputs": [
    {
     "name": "stdout",
     "output_type": "stream",
     "text": [
      "[[[90 89 44]\n",
      "  [34 25 16]]\n",
      "\n",
      " [[67 68 69]\n",
      "  [90 41 82]]]\n",
      "\n",
      "Return the second list item insider the first list [34 25 16]\n",
      "\n",
      "Return the first list item insider the second list [67 68 69]\n",
      "\n",
      "Return the first list item insider the first list [90 89 44]\n",
      "[[90 89 44]\n",
      " [34 25 16]]\n"
     ]
    }
   ],
   "source": [
    "#3D arrays -> this is a 2x2x3 array\n",
    "scores_array_3d = np.array([[[90, 89, 44], [34, 25, 16]], [[67,68, 69], [90, 41, 82]]])\n",
    "print (scores_array_3d)\n",
    "\n",
    "#practice below\n",
    "print(\"\\nReturn the second list item insider the first list {}\".format(scores_array_3d[0,1]))\n",
    "print(\"\\nReturn the first list item insider the second list {}\".format(scores_array_3d[1,0]))\n",
    "print(\"\\nReturn the first list item insider the first list {}\".format(scores_array_3d[0,0]))\n",
    "\n",
    "#prints only the first list in the first list group\n",
    "print(scores_array_3d[0])"
   ]
  },
  {
   "cell_type": "code",
   "execution_count": 65,
   "metadata": {},
   "outputs": [
    {
     "name": "stdout",
     "output_type": "stream",
     "text": [
      "New value of scores_array_3d: [[[99 99 99]\n",
      "  [99 99 99]]\n",
      "\n",
      " [[67 68 69]\n",
      "  [90 41 82]]]\n"
     ]
    }
   ],
   "source": [
    "copied_values = scores_array_3d[0].copy() #copy array[0] value copied_values\n",
    "scores_array_3d[0] = 99 #change all values of array[0] to 99\n",
    "print(\"New value of scores_array_3d: {}\".format(scores_array_3d))\n",
    "scores_array_3d[0] = copied_values #assign copied values\n"
   ]
  },
  {
   "cell_type": "code",
   "execution_count": 121,
   "metadata": {},
   "outputs": [
    {
     "name": "stdout",
     "output_type": "stream",
     "text": [
      "The orginal matrix:\n",
      " [[[90 89 44]\n",
      "  [34 25 16]]\n",
      "\n",
      " [[67 68 69]\n",
      "  [90 41 82]]]\n",
      "\n",
      "Slices the first group and selects first set:\n",
      " [[90 89 44]]\n",
      "\n",
      "Returns 68:\n",
      " 68\n",
      "\n",
      "Returns first row of each group:\n",
      " [[[90 89 44]]\n",
      "\n",
      " [[67 68 69]]]\n"
     ]
    }
   ],
   "source": [
    "scores_array_3d\n",
    "print(\"The orginal matrix:\\n {}\".format(scores_array_3d))\n",
    "print(\"\\nSlices the first group and selects first set:\\n {}\".format(scores_array_3d[:1,0]))\n",
    "print(\"\\nReturns 68:\\n {}\".format(scores_array_3d[1,0,1]))\n",
    "print(\"\\nReturns first row of each group:\\n {}\".format(scores_array_3d[:,:1]))\n"
   ]
  },
  {
   "cell_type": "code",
   "execution_count": 130,
   "metadata": {},
   "outputs": [
    {
     "name": "stdout",
     "output_type": "stream",
     "text": [
      "[ True False False False False False]\n",
      "[[ 1.19061664  1.25955662 -1.34068326 -0.66214769  0.226008   -1.19523546]\n",
      " [-1.64745777 -0.04627456  0.53904879 -0.98106509  0.32586659 -0.26206579]\n",
      " [-0.34348186  0.85675573 -0.35861569  0.29121358 -0.95742341 -0.97699848]\n",
      " [-0.47244247  1.44326198  1.19289558 -0.93727358 -0.62797422  0.24288687]\n",
      " [-0.20720949  1.43250924 -0.40980236 -0.85572119  0.85189576 -2.03705254]\n",
      " [-0.75126599  1.47468006 -0.57892683 -0.28768004  0.32083621 -0.33899991]]\n"
     ]
    },
    {
     "data": {
      "text/plain": [
       "array([[-1.64745777, -0.04627456,  0.53904879, -0.98106509,  0.32586659,\n",
       "        -0.26206579]])"
      ]
     },
     "execution_count": 130,
     "metadata": {},
     "output_type": "execute_result"
    }
   ],
   "source": [
    "#Import Random module from Numpy\n",
    "from numpy import random\n",
    "\n",
    "persons = np.array(['chris','john','mark','matt','luke','jesus'])\n",
    "print(persons == 'chris')\n",
    "random_no = random.randn(6,6)\n",
    "print(random_no)\n",
    "random_no[persons == 'john']"
   ]
  }
 ],
 "metadata": {
  "kernelspec": {
   "display_name": "Python 3",
   "language": "python",
   "name": "python3"
  },
  "language_info": {
   "codemirror_mode": {
    "name": "ipython",
    "version": 3
   },
   "file_extension": ".py",
   "mimetype": "text/x-python",
   "name": "python",
   "nbconvert_exporter": "python",
   "pygments_lexer": "ipython3",
   "version": "3.7.0"
  }
 },
 "nbformat": 4,
 "nbformat_minor": 2
}
