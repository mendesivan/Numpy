{
 "cells": [
  {
   "cell_type": "code",
   "execution_count": 73,
   "metadata": {},
   "outputs": [
    {
     "name": "stdout",
     "output_type": "stream",
     "text": [
      "Array =  [44.53 34.65  2.6  90.2  87.3 ]\n",
      "Type =  float64\n"
     ]
    }
   ],
   "source": [
    "#N- Dimensional Array\n",
    "\n",
    "import numpy as np #import numpy libary\n",
    "\n",
    "#create an array list\n",
    "scores = [44.53,34.65,2.6,90.2,87.3]\n",
    "scores_array = np.array(scores)\n",
    "\n",
    "print(\"Array = \",scores_array)\n",
    "print(\"Type = \",scores_array.dtype) #.dtype returns the data type of the array"
   ]
  },
  {
   "cell_type": "code",
   "execution_count": 84,
   "metadata": {},
   "outputs": [
    {
     "name": "stdout",
     "output_type": "stream",
     "text": [
      "Array =  [[34 56 76 34]\n",
      " [23 54 12 11]]\n",
      "Dimmension =  2\n",
      "Rows, Column =  (2, 4)\n",
      "Type =  int32\n"
     ]
    }
   ],
   "source": [
    "#Nested lists with equal length will be converted into multi-dimensional array\n",
    "\n",
    "scores_m = [[34,56,76,34],[23,54,12,11]]\n",
    "scores_m_array = np.array(scores_m)\n",
    "\n",
    "print(\"Array = \",scores_m_array)\n",
    "print(\"Dimmension = \",scores_m_array.ndim) #.ndim gives you the dimensions of an array.\n",
    "print(\"Rows, Column = \",scores_m_array.shape) #number of rows and columns\n",
    "print(\"Type = \",scores_m_array.dtype)\n"
   ]
  },
  {
   "cell_type": "code",
   "execution_count": 87,
   "metadata": {},
   "outputs": [
    {
     "data": {
      "text/plain": [
       "array([ 0,  1,  2,  3,  4,  5,  6,  7,  8,  9, 10, 11, 12, 13, 14])"
      ]
     },
     "execution_count": 87,
     "metadata": {},
     "output_type": "execute_result"
    }
   ],
   "source": [
    "#more arrays and functions\n",
    "x = np.zeros(5)\n",
    "y = np.ones(5)\n",
    "\n",
    "np.zeros((4,3)) #mention the shape of the area (4 rows  by 3 columns)\n",
    "np.arange(15) #the array is the number range: 1, 2, 3....14\n"
   ]
  },
  {
   "cell_type": "code",
   "execution_count": 88,
   "metadata": {},
   "outputs": [
    {
     "data": {
      "text/plain": [
       "array([[1., 0., 0., 0., 0., 0.],\n",
       "       [0., 1., 0., 0., 0., 0.],\n",
       "       [0., 0., 1., 0., 0., 0.],\n",
       "       [0., 0., 0., 1., 0., 0.],\n",
       "       [0., 0., 0., 0., 1., 0.],\n",
       "       [0., 0., 0., 0., 0., 1.]])"
      ]
     },
     "execution_count": 88,
     "metadata": {},
     "output_type": "execute_result"
    }
   ],
   "source": [
    "np.eye(6)"
   ]
  },
  {
   "cell_type": "code",
   "execution_count": 91,
   "metadata": {},
   "outputs": [
    {
     "name": "stdout",
     "output_type": "stream",
     "text": [
      "A:  [1.9829209e+03 1.2006225e+03 6.7600000e+00 8.1360400e+03 7.6212900e+03]\n",
      "B:  [0. 0. 0. 0. 0.]\n",
      "C:  [0.02245677 0.02886003 0.38461538 0.01108647 0.01145475]\n",
      "D:  [6.67308025 5.88642506 1.61245155 9.49736806 9.3434469 ]\n"
     ]
    }
   ],
   "source": [
    "#call scores from above in the below scenario.\n",
    "scores_array\n",
    "\n",
    "print(\"A: \",scores_array * scores_array)\n",
    "print(\"B: \",scores_array - scores_array)\n",
    "print(\"C: \",1/scores_array)\n",
    "print(\"D: \",scores_array ** 0.5)"
   ]
  }
 ],
 "metadata": {
  "kernelspec": {
   "display_name": "Python 3",
   "language": "python",
   "name": "python3"
  },
  "language_info": {
   "codemirror_mode": {
    "name": "ipython",
    "version": 3
   },
   "file_extension": ".py",
   "mimetype": "text/x-python",
   "name": "python",
   "nbconvert_exporter": "python",
   "pygments_lexer": "ipython3",
   "version": "3.7.0"
  }
 },
 "nbformat": 4,
 "nbformat_minor": 2
}
