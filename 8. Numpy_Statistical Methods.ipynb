{
 "cells": [
  {
   "cell_type": "code",
   "execution_count": 1,
   "metadata": {},
   "outputs": [
    {
     "name": "stdout",
     "output_type": "stream",
     "text": [
      "0.02547243393920628\n",
      "0.02547243393920628\n",
      "0.636810848480157\n"
     ]
    }
   ],
   "source": [
    "import numpy as np\n",
    "from numpy import random\n",
    "\n",
    "stats = np.random.randn(5,5)\n",
    "print(stats.mean()) #calculates the mean of stats\n",
    "print(np.mean(stats)) #alternative method to cal mean\n",
    "print(stats.sum())"
   ]
  },
  {
   "cell_type": "code",
   "execution_count": 22,
   "metadata": {},
   "outputs": [
    {
     "name": "stdout",
     "output_type": "stream",
     "text": [
      "The arrays are:\n",
      " [[ 0  1  2]\n",
      " [ 3  4  5]\n",
      " [ 6  7  8]\n",
      " [ 9 10 11]]\n",
      "The sum of rows are:\n",
      " [18 22 26]\n",
      "\n",
      " 66\n",
      "\n",
      " [ 3 12 21 30]\n",
      "[18 22 26]\n",
      "\n",
      "Top to down:\n",
      " [[ 0  1  2]\n",
      " [ 3  5  7]\n",
      " [ 9 12 15]\n",
      " [18 22 26]]\n",
      "\n",
      " Left to right:\n",
      " [[ 0  1  3]\n",
      " [ 3  7 12]\n",
      " [ 6 13 21]\n",
      " [ 9 19 30]]\n"
     ]
    }
   ],
   "source": [
    "py = np.arange(12).reshape(4,3)\n",
    "print(\"The arrays are:\\n {}\".format(py))\n",
    "print(\"The sum of rows are:\\n {}\".format(np.sum(py,axis =0)))\n",
    "print(\"\\n\",py.sum()) #sum of all numbers\n",
    "print(\"\\n\",py.sum(1)) #sum of all numbers from left to right\n",
    "print(py.sum(0)) #sum of all numbers from top to down\n",
    "print(\"\\nTop to down:\\n\",py.cumsum((0))) #cummulative sum top to down\n",
    "print(\"\\n Left to right:\\n\",py.cumsum(1))"
   ]
  },
  {
   "cell_type": "code",
   "execution_count": 112,
   "metadata": {},
   "outputs": [
    {
     "name": "stdout",
     "output_type": "stream",
     "text": [
      "64\n",
      "36\n",
      "True\n",
      "False\n",
      "\n",
      "Other array functions are:\n",
      "std, var -> standard deviation and variance\n",
      "min, max -> Minimum and Maximum\n",
      "argmin, argmax -> Indices of minimum and maximum elements\n"
     ]
    }
   ],
   "source": [
    "xp = np.random.randn(100)\n",
    "print((xp > 0).sum()) #sum of all positive values\n",
    "print((xp < 0).sum()) #um of all negative values\n",
    "tandf =np.array([True,False,True,False,True,False])\n",
    "print(tandf.any()) #check if any of the values are true\n",
    "print(tandf.all()) #returns false even if a single value is false\n",
    "\n",
    "print(\"\"\"\\nOther array functions are:\n",
    "std, var -> standard deviation and variance\n",
    "min, max -> Minimum and Maximum\n",
    "argmin, argmax -> Indices of minimum and maximum elements\"\"\")"
   ]
  }
 ],
 "metadata": {
  "kernelspec": {
   "display_name": "Python 3",
   "language": "python",
   "name": "python3"
  },
  "language_info": {
   "codemirror_mode": {
    "name": "ipython",
    "version": 3
   },
   "file_extension": ".py",
   "mimetype": "text/x-python",
   "name": "python",
   "nbconvert_exporter": "python",
   "pygments_lexer": "ipython3",
   "version": "3.7.0"
  }
 },
 "nbformat": 4,
 "nbformat_minor": 2
}
