{
 "cells": [
  {
   "cell_type": "code",
   "execution_count": 8,
   "metadata": {},
   "outputs": [],
   "source": [
    "import numpy as np\n",
    "from numpy import random\n",
    "from numpy.linalg import inv, qr # numpy.linalg has standard matrix operations like determinants and inverse."
   ]
  },
  {
   "cell_type": "code",
   "execution_count": 4,
   "metadata": {},
   "outputs": [
    {
     "name": "stdout",
     "output_type": "stream",
     "text": [
      "CP Array:\n",
      "[[1 2 3]\n",
      " [4 5 6]]\n",
      "DP Array:\n",
      "[[ 7  8]\n",
      " [ 9 10]\n",
      " [11 12]]\n"
     ]
    }
   ],
   "source": [
    "cp = np.array([[1,2,3],[4,5,6]])\n",
    "dp = np.array([[7,8],[9,10],[11,12]])\n",
    "print(\"CP Array:\\n{}\".format(cp))\n",
    "print(\"DP Array:\\n{}\".format(dp))"
   ]
  },
  {
   "cell_type": "code",
   "execution_count": 6,
   "metadata": {},
   "outputs": [
    {
     "data": {
      "text/plain": [
       "array([ 6., 15.])"
      ]
     },
     "execution_count": 6,
     "metadata": {},
     "output_type": "execute_result"
    }
   ],
   "source": [
    "#What are these doing? \n",
    "cp.dot(dp)\n",
    "np.dot(cp,np.ones(3))"
   ]
  },
  {
   "cell_type": "code",
   "execution_count": 9,
   "metadata": {},
   "outputs": [
    {
     "name": "stdout",
     "output_type": "stream",
     "text": [
      "[[17 22 27]\n",
      " [22 29 36]\n",
      " [27 36 45]]\n"
     ]
    }
   ],
   "source": [
    "#Linear Algebra Numpy Function\n",
    "#Utilize cp above.\n",
    "new1 = cp.T.dot(cp) #multiply cp inverse and cp. Element wise multiplication.\n",
    "print(new1)"
   ]
  },
  {
   "cell_type": "code",
   "execution_count": 11,
   "metadata": {},
   "outputs": [
    {
     "name": "stdout",
     "output_type": "stream",
     "text": [
      "[[-0.51474994  0.04081855  1.07781177 -0.43635401 -0.04144685]\n",
      " [ 0.43415314 -0.11699364 -0.71684333 -0.00648151  0.25278688]\n",
      " [-0.10069316  0.02293722 -0.47967713  0.0273027   0.16892674]\n",
      " [ 0.09907678  0.1895648   0.31806403 -0.06614568  0.34853995]\n",
      " [ 0.44234148  0.34494795 -0.06135194 -0.46757704 -0.36082392]]\n"
     ]
    }
   ],
   "source": [
    "sp = np.random.randn(5,5)\n",
    "print(inv(sp))\n",
    "rt = inv(sp)"
   ]
  },
  {
   "cell_type": "code",
   "execution_count": 12,
   "metadata": {},
   "outputs": [
    {
     "data": {
      "text/plain": [
       "array([[ 1.00000000e+00,  5.74003469e-18,  4.85847568e-17,\n",
       "         1.46271592e-18,  1.50246429e-17],\n",
       "       [-3.68209782e-17,  1.00000000e+00,  3.93880454e-16,\n",
       "        -1.56136429e-16,  7.14485170e-17],\n",
       "       [ 3.08273815e-18,  4.11209050e-18,  1.00000000e+00,\n",
       "         8.48436674e-18,  6.67858303e-18],\n",
       "       [-2.16642919e-17, -7.12078732e-18,  2.92410071e-16,\n",
       "         1.00000000e+00,  3.48669008e-17],\n",
       "       [-2.67568141e-17,  7.11874986e-17,  9.30933227e-17,\n",
       "        -1.25846310e-16,  1.00000000e+00]])"
      ]
     },
     "execution_count": 12,
     "metadata": {},
     "output_type": "execute_result"
    }
   ],
   "source": [
    "#To calculate the product of a matrix and its inverse\n",
    "sp.dot(rt)"
   ]
  },
  {
   "cell_type": "code",
   "execution_count": 13,
   "metadata": {},
   "outputs": [
    {
     "name": "stdout",
     "output_type": "stream",
     "text": [
      "[[-0.21007897  0.78978767 -0.01870349  0.19623005 -0.54152212]\n",
      " [-0.57075563 -0.52595772  0.28948946  0.36806579 -0.42229127]\n",
      " [ 0.03923831 -0.10767912 -0.781916    0.6081379   0.07510811]\n",
      " [-0.7701664   0.21801658 -0.11755215 -0.13354392  0.57241593]\n",
      " [ 0.18817254  0.20119116  0.53910565  0.66208432  0.4417269 ]]\n"
     ]
    },
    {
     "data": {
      "text/plain": [
       "array([[ 2.19588007,  2.67753244, -0.03257185, -1.37974866, -0.24593594],\n",
       "       [ 0.        ,  1.8830371 , -2.61840906, -0.16347928, -0.62213854],\n",
       "       [ 0.        ,  0.        ,  2.12111353,  0.79131494,  0.26331961],\n",
       "       [ 0.        ,  0.        ,  0.        ,  1.91483889,  0.01472612],\n",
       "       [ 0.        ,  0.        ,  0.        ,  0.        , -1.22421736]])"
      ]
     },
     "execution_count": 13,
     "metadata": {},
     "output_type": "execute_result"
    }
   ],
   "source": [
    "q,r=qr(sp)\n",
    "print(q)\n",
    "r\n",
    "\n",
    "print(\"\"\"Other Matrix Functions\n",
    "\n",
    "diag : Return the diagonal (or off-diagonal) elements of a square matrix as a 1D array, or convert a 1D array into a square\n",
    "matrix with zeros on the off-diagonal\n",
    "trace: Compute the sum of the diagonal elements\n",
    "det: Compute the matrix determinant\n",
    "eig: Compute the eigenvalues and eigenvectors of a square matrix\n",
    "pinv: Compute the pseudo-inverse of a square matrix\n",
    "svd: Compute the singular value decomposition (SVD)\n",
    "solve: Solve the linear system Ax = b for x, where A is a square matrix\n",
    "lstsq: Compute the least-squares solution to y = Xb\"\"\")"
   ]
  }
 ],
 "metadata": {
  "kernelspec": {
   "display_name": "Python 3",
   "language": "python",
   "name": "python3"
  },
  "language_info": {
   "codemirror_mode": {
    "name": "ipython",
    "version": 3
   },
   "file_extension": ".py",
   "mimetype": "text/x-python",
   "name": "python",
   "nbconvert_exporter": "python",
   "pygments_lexer": "ipython3",
   "version": "3.7.0"
  }
 },
 "nbformat": 4,
 "nbformat_minor": 2
}
