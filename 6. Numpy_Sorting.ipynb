{
 "cells": [
  {
   "cell_type": "code",
   "execution_count": 2,
   "metadata": {},
   "outputs": [
    {
     "name": "stdout",
     "output_type": "stream",
     "text": [
      "[ 0.18057371 -0.98266634 -0.29388933 -0.33210748 -0.13937695 -0.40066722\n",
      " -1.06733515 -0.51051647]\n"
     ]
    },
    {
     "data": {
      "text/plain": [
       "array([-1.06733515, -0.98266634, -0.51051647, -0.40066722, -0.33210748,\n",
       "       -0.29388933, -0.13937695,  0.18057371])"
      ]
     },
     "execution_count": 2,
     "metadata": {},
     "output_type": "execute_result"
    }
   ],
   "source": [
    "import numpy as np\n",
    "from numpy import random\n",
    "\n",
    "lp = np.random.randn(8)\n",
    "print(lp)\n",
    "lp.sort()\n",
    "lp"
   ]
  },
  {
   "cell_type": "code",
   "execution_count": 3,
   "metadata": {},
   "outputs": [
    {
     "data": {
      "text/plain": [
       "array([[-0.41444767, -1.42705905,  1.9416425 , -2.29639435],\n",
       "       [-0.91174822, -1.72642033, -0.71086123, -0.97277868],\n",
       "       [ 0.83912635,  0.09618549, -0.2797014 , -0.1767063 ],\n",
       "       [-0.44757049,  0.18798075,  0.84246394, -0.28553845]])"
      ]
     },
     "execution_count": 3,
     "metadata": {},
     "output_type": "execute_result"
    }
   ],
   "source": [
    "tp = np.random.randn(4,4)\n",
    "tp"
   ]
  },
  {
   "cell_type": "code",
   "execution_count": 9,
   "metadata": {},
   "outputs": [
    {
     "data": {
      "text/plain": [
       "array([[-2.29639435, -1.42705905, -0.41444767,  1.9416425 ],\n",
       "       [-1.72642033, -0.97277868, -0.91174822, -0.71086123],\n",
       "       [-0.2797014 , -0.1767063 ,  0.09618549,  0.83912635],\n",
       "       [-0.44757049, -0.28553845,  0.18798075,  0.84246394]])"
      ]
     },
     "execution_count": 9,
     "metadata": {},
     "output_type": "execute_result"
    }
   ],
   "source": [
    "tp.sort(1) #check the rows are sorted\n",
    "tp"
   ]
  },
  {
   "cell_type": "code",
   "execution_count": 27,
   "metadata": {},
   "outputs": [
    {
     "name": "stdout",
     "output_type": "stream",
     "text": [
      "Other Functions are: \n",
      "intersect1d(x, y)-> Compute the sorted, common elements in x and y\n",
      "union1d(x,y) -> compute the sorted union of elements\n",
      "setdiff1d(x,y) -> set difference, elements in x that are not in y\n",
      "setxor1d(x, y) -> Set symmetric differences; elements that are in either of the arrays, but not both\n"
     ]
    }
   ],
   "source": [
    "person = np.array(['Manu','John','Chris','David','Luke','David'])\n",
    "np.unique(person) #returns unique elements in the array\n",
    "#set(person) #alternatibe to unique function\n",
    "np.in1d(person,['Chris']) #Checks the values for the variable and returns \"True\" once found and \"False\" for all others.\n",
    "\n",
    "print(\"\"\"Other Functions are: \n",
    "intersect1d(x, y)-> Compute the sorted, common elements in x and y\n",
    "union1d(x,y) -> compute the sorted union of elements\n",
    "setdiff1d(x,y) -> set difference, elements in x that are not in y\n",
    "setxor1d(x, y) -> Set symmetric differences; elements that are in either of the arrays, but not both\"\"\")"
   ]
  }
 ],
 "metadata": {
  "kernelspec": {
   "display_name": "Python 3",
   "language": "python",
   "name": "python3"
  },
  "language_info": {
   "codemirror_mode": {
    "name": "ipython",
    "version": 3
   },
   "file_extension": ".py",
   "mimetype": "text/x-python",
   "name": "python",
   "nbconvert_exporter": "python",
   "pygments_lexer": "ipython3",
   "version": "3.7.0"
  }
 },
 "nbformat": 4,
 "nbformat_minor": 2
}
